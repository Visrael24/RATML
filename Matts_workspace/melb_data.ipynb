{
 "cells": [
  {
   "cell_type": "code",
   "execution_count": 13,
   "metadata": {},
   "outputs": [],
   "source": [
    "import pandas as pd\n",
    "from sklearn.tree import DecisionTreeRegressor\n",
    "from sklearn.model_selection import train_test_split\n",
    "from sklearn.metrics import accuracy_score\n",
    "import statistics\n",
    "import matplotlib.pyplot as plt\n",
    "import math\n",
    "from statsmodels.stats.outliers_influence import variance_inflation_factor"
   ]
  },
  {
   "attachments": {},
   "cell_type": "markdown",
   "metadata": {},
   "source": [
    "# EDA\n",
    "\n",
    "Reading in the data, and taking an exploratory analysis"
   ]
  },
  {
   "cell_type": "code",
   "execution_count": 14,
   "metadata": {},
   "outputs": [],
   "source": [
    "df = pd.read_csv('../data/melb_data.csv')\n",
    "pd.set_option('display.max_columns', None)\n"
   ]
  },
  {
   "attachments": {},
   "cell_type": "markdown",
   "metadata": {},
   "source": [
    "Code to look at correlations between price and other variables, commented for runtime"
   ]
  },
  {
   "cell_type": "code",
   "execution_count": 16,
   "metadata": {},
   "outputs": [],
   "source": [
    "# for col in df.drop('Price', axis = 1):\n",
    "#     try:    \n",
    "#         df.plot.scatter(x=col, y='Price')\n",
    "#         plt.show()\n",
    "#     except:\n",
    "#         print(col)\n"
   ]
  },
  {
   "cell_type": "code",
   "execution_count": 17,
   "metadata": {},
   "outputs": [
    {
     "name": "stdout",
     "output_type": "stream",
     "text": [
      "<class 'pandas.core.frame.DataFrame'>\n",
      "RangeIndex: 13580 entries, 0 to 13579\n",
      "Data columns (total 21 columns):\n",
      " #   Column         Non-Null Count  Dtype  \n",
      "---  ------         --------------  -----  \n",
      " 0   Suburb         13580 non-null  object \n",
      " 1   Address        13580 non-null  object \n",
      " 2   Rooms          13580 non-null  int64  \n",
      " 3   Type           13580 non-null  object \n",
      " 4   Price          13580 non-null  float64\n",
      " 5   Method         13580 non-null  object \n",
      " 6   SellerG        13580 non-null  object \n",
      " 7   Date           13580 non-null  object \n",
      " 8   Distance       13580 non-null  float64\n",
      " 9   Postcode       13580 non-null  float64\n",
      " 10  Bedroom2       13580 non-null  float64\n",
      " 11  Bathroom       13580 non-null  float64\n",
      " 12  Car            13518 non-null  float64\n",
      " 13  Landsize       13580 non-null  float64\n",
      " 14  BuildingArea   7130 non-null   float64\n",
      " 15  YearBuilt      8205 non-null   float64\n",
      " 16  CouncilArea    12211 non-null  object \n",
      " 17  Lattitude      13580 non-null  float64\n",
      " 18  Longtitude     13580 non-null  float64\n",
      " 19  Regionname     13580 non-null  object \n",
      " 20  Propertycount  13580 non-null  float64\n",
      "dtypes: float64(12), int64(1), object(8)\n",
      "memory usage: 2.2+ MB\n"
     ]
    }
   ],
   "source": [
    "df.info()"
   ]
  },
  {
   "cell_type": "code",
   "execution_count": 18,
   "metadata": {},
   "outputs": [
    {
     "data": {
      "text/plain": [
       "Suburb              0\n",
       "Address             0\n",
       "Rooms               0\n",
       "Type                0\n",
       "Price               0\n",
       "Method              0\n",
       "SellerG             0\n",
       "Date                0\n",
       "Distance            0\n",
       "Postcode            0\n",
       "Bedroom2            0\n",
       "Bathroom            0\n",
       "Car                62\n",
       "Landsize            0\n",
       "BuildingArea     6450\n",
       "YearBuilt        5375\n",
       "CouncilArea      1369\n",
       "Lattitude           0\n",
       "Longtitude          0\n",
       "Regionname          0\n",
       "Propertycount       0\n",
       "dtype: int64"
      ]
     },
     "execution_count": 18,
     "metadata": {},
     "output_type": "execute_result"
    }
   ],
   "source": [
    "df.isnull().sum()"
   ]
  },
  {
   "attachments": {},
   "cell_type": "markdown",
   "metadata": {},
   "source": [
    "# ============================================================="
   ]
  },
  {
   "attachments": {},
   "cell_type": "markdown",
   "metadata": {},
   "source": [
    "Imputing missing values, removing outliers and nulls"
   ]
  },
  {
   "cell_type": "code",
   "execution_count": 19,
   "metadata": {},
   "outputs": [],
   "source": [
    "df = df[df['BuildingArea'] < 20001]\n",
    "df = df[df['Price'] <  3_000_000]\n",
    "df.fillna(value= {'Car':0, 'CouncilArea':df['CouncilArea'].mode()[0], 'BuildingArea': df['BuildingArea'].mean()}, inplace=True)\n",
    "df.dropna(axis=0, inplace=True)"
   ]
  },
  {
   "attachments": {},
   "cell_type": "markdown",
   "metadata": {},
   "source": [
    "Separating numeric and dummy variables, then concat them together. Then, create independent and dependent variable sets."
   ]
  },
  {
   "cell_type": "code",
   "execution_count": 20,
   "metadata": {},
   "outputs": [],
   "source": [
    "dfn = df._get_numeric_data()\n",
    "y = df['Price']\n",
    "dummy_vars = pd.get_dummies(df[['Type','Regionname', 'Suburb', 'CouncilArea', 'YearBuilt']])\n",
    "X = pd.concat([dfn.drop('Price', axis=1), dummy_vars], axis=1)\n",
    "X = dfn.drop('Price', axis=1)"
   ]
  },
  {
   "attachments": {},
   "cell_type": "markdown",
   "metadata": {},
   "source": [
    "Measure multicollinearity between numeric columns"
   ]
  },
  {
   "cell_type": "code",
   "execution_count": 25,
   "metadata": {},
   "outputs": [
    {
     "name": "stdout",
     "output_type": "stream",
     "text": [
      "          feature            VIF\n",
      "0           Rooms     129.770076\n",
      "1           Price      11.831217\n",
      "2        Distance       7.713347\n",
      "3        Postcode    1736.289615\n",
      "4        Bedroom2     123.958207\n",
      "5        Bathroom      12.536889\n",
      "6             Car       5.082847\n",
      "7        Landsize       1.296286\n",
      "8    BuildingArea       6.386627\n",
      "9       YearBuilt    3961.855218\n",
      "10      Lattitude  290566.293903\n",
      "11     Longtitude  287818.157001\n",
      "12  Propertycount       4.037542\n"
     ]
    }
   ],
   "source": [
    "vif_data = pd.DataFrame()\n",
    "# dfn['Elseroom'] = dfn['Rooms'] - dfn['Bedroom2'] - dfn['Bathroom']\n",
    "# dfn['AvgRoomArea'] = dfn['BuildingArea'] / dfn['Rooms']\n",
    "# dfn.drop(['Rooms'], axis=1, inplace=True)\n",
    "vif_data[\"feature\"] = dfn.columns\n",
    "vif_data['VIF'] = [variance_inflation_factor(dfn.values, i) for i in range(len(dfn.columns))]\n",
    "print(vif_data)"
   ]
  },
  {
   "attachments": {},
   "cell_type": "markdown",
   "metadata": {},
   "source": [
    "### Running the Model\n",
    "\n",
    "Runs the model 100 times with different seeds, and takes the average score"
   ]
  },
  {
   "cell_type": "code",
   "execution_count": 23,
   "metadata": {},
   "outputs": [],
   "source": [
    "from sklearn.tree import plot_tree"
   ]
  },
  {
   "cell_type": "code",
   "execution_count": 28,
   "metadata": {},
   "outputs": [
    {
     "name": "stdout",
     "output_type": "stream",
     "text": [
      "0.7301355509003262\n",
      "0.7609937870714528\n",
      "0.6937729801449706\n"
     ]
    }
   ],
   "source": [
    "model = DecisionTreeRegressor(min_samples_leaf= 0.005)\n",
    "\n",
    "x = 0\n",
    "temp = []\n",
    "for i in range(100):\n",
    "    Xt, Xv, yt, yv = train_test_split(X, y, test_size=.2, random_state=x)\n",
    "    model.fit(Xt, yt)\n",
    "    temp.append(model.score(Xv, yv))\n",
    "    x += 1\n",
    "\n",
    "print(statistics.mean(temp))\n",
    "print(max(temp))\n",
    "print(min(temp))\n",
    "# plot_tree(model)"
   ]
  }
 ],
 "metadata": {
  "kernelspec": {
   "display_name": "base",
   "language": "python",
   "name": "python3"
  },
  "language_info": {
   "codemirror_mode": {
    "name": "ipython",
    "version": 3
   },
   "file_extension": ".py",
   "mimetype": "text/x-python",
   "name": "python",
   "nbconvert_exporter": "python",
   "pygments_lexer": "ipython3",
   "version": "3.9.13"
  },
  "orig_nbformat": 4
 },
 "nbformat": 4,
 "nbformat_minor": 2
}

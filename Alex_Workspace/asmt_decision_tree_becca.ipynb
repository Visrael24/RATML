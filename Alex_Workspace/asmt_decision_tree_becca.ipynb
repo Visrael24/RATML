{
 "cells": [
  {
   "cell_type": "code",
   "execution_count": 275,
   "metadata": {},
   "outputs": [],
   "source": [
    "import pandas as pd\n",
    "from sklearn import tree\n",
    "import numpy as np\n",
    "from sklearn.tree import DecisionTreeRegressor"
   ]
  },
  {
   "cell_type": "code",
   "execution_count": 276,
   "metadata": {},
   "outputs": [],
   "source": [
    "df = pd.read_csv('../data/Cars93.csv')"
   ]
  },
  {
   "cell_type": "code",
   "execution_count": 277,
   "metadata": {},
   "outputs": [],
   "source": [
    "#what do we want to predict\n",
    "y = df['Wheelbase']"
   ]
  },
  {
   "cell_type": "code",
   "execution_count": 278,
   "metadata": {},
   "outputs": [
    {
     "name": "stdout",
     "output_type": "stream",
     "text": [
      "               feature            VIF\n",
      "0           Unnamed: 0       5.022127\n",
      "17        Luggage.room      70.374126\n",
      "9         Rev.per.mile      91.122971\n",
      "6           EngineSize     100.038878\n",
      "11          Passengers     117.058722\n",
      "7           Horsepower     128.618276\n",
      "10  Fuel.tank.capacity     181.583424\n",
      "16      Rear.seat.room     255.521255\n",
      "4             MPG.city     315.108029\n",
      "8                  RPM     341.775048\n",
      "5          MPG.highway     520.308526\n",
      "15         Turn.circle     543.369873\n",
      "18              Weight     683.407680\n",
      "12              Length     969.105557\n",
      "14               Width    1790.747869\n",
      "13           Wheelbase    2222.309173\n",
      "1            Min.Price  131292.094432\n",
      "3            Max.Price  212769.911383\n",
      "2                Price  671203.076961\n"
     ]
    }
   ],
   "source": [
    "#shows which values may heavily correlate with each other (collinearity)\n",
    "XX = df._get_numeric_data()\n",
    "for col in XX:\n",
    "    if XX[col].isnull().sum() > 0:\n",
    "        XX[col].fillna(XX[col].mean(), inplace = True)\n",
    "vif_data = pd.DataFrame()\n",
    "vif_data[\"feature\"] = XX.columns\n",
    "vif_data['VIF'] = [variance_inflation_factor(XX.values, i) for i in range(len(XX.columns))]\n",
    "vif_data_sorted = vif_data.sort_values(['VIF'])\n",
    "print(vif_data_sorted)"
   ]
  },
  {
   "cell_type": "code",
   "execution_count": 279,
   "metadata": {},
   "outputs": [
    {
     "data": {
      "text/plain": [
       "Unnamed: 0            0\n",
       "Manufacturer          0\n",
       "Model                 0\n",
       "Type                  0\n",
       "Min.Price             0\n",
       "Price                 0\n",
       "Max.Price             0\n",
       "MPG.city              0\n",
       "MPG.highway           0\n",
       "AirBags               0\n",
       "DriveTrain            0\n",
       "Cylinders             0\n",
       "EngineSize            0\n",
       "Horsepower            0\n",
       "RPM                   0\n",
       "Rev.per.mile          0\n",
       "Man.trans.avail       0\n",
       "Fuel.tank.capacity    0\n",
       "Passengers            0\n",
       "Length                0\n",
       "Wheelbase             0\n",
       "Width                 0\n",
       "Turn.circle           0\n",
       "Rear.seat.room        0\n",
       "Luggage.room          0\n",
       "Weight                0\n",
       "Origin                0\n",
       "Make                  0\n",
       "dtype: int64"
      ]
     },
     "execution_count": 279,
     "metadata": {},
     "output_type": "execute_result"
    }
   ],
   "source": [
    "df.isna().sum()"
   ]
  },
  {
   "attachments": {},
   "cell_type": "markdown",
   "metadata": {},
   "source": [
    "#Practice"
   ]
  },
  {
   "cell_type": "code",
   "execution_count": 280,
   "metadata": {},
   "outputs": [],
   "source": [
    "from statsmodels.stats.outliers_influence import variance_inflation_factor"
   ]
  },
  {
   "cell_type": "code",
   "execution_count": 281,
   "metadata": {},
   "outputs": [
    {
     "data": {
      "text/plain": [
       "Index(['Unnamed: 0', 'Manufacturer', 'Model', 'Type', 'Min.Price', 'Price',\n",
       "       'Max.Price', 'MPG.city', 'MPG.highway', 'AirBags', 'DriveTrain',\n",
       "       'Cylinders', 'EngineSize', 'Horsepower', 'RPM', 'Rev.per.mile',\n",
       "       'Man.trans.avail', 'Fuel.tank.capacity', 'Passengers', 'Length',\n",
       "       'Wheelbase', 'Width', 'Turn.circle', 'Rear.seat.room', 'Luggage.room',\n",
       "       'Weight', 'Origin', 'Make'],\n",
       "      dtype='object')"
      ]
     },
     "execution_count": 281,
     "metadata": {},
     "output_type": "execute_result"
    }
   ],
   "source": [
    "df.columns"
   ]
  },
  {
   "cell_type": "code",
   "execution_count": 282,
   "metadata": {},
   "outputs": [],
   "source": [
    "dummyVars = pd.get_dummies(['DriveTrain', 'Man.trans.avail', 'Origin', 'AirBags', 'Manufacturer', 'Cylinders','Type'])"
   ]
  },
  {
   "cell_type": "code",
   "execution_count": 283,
   "metadata": {},
   "outputs": [
    {
     "data": {
      "text/html": [
       "<div>\n",
       "<style scoped>\n",
       "    .dataframe tbody tr th:only-of-type {\n",
       "        vertical-align: middle;\n",
       "    }\n",
       "\n",
       "    .dataframe tbody tr th {\n",
       "        vertical-align: top;\n",
       "    }\n",
       "\n",
       "    .dataframe thead th {\n",
       "        text-align: right;\n",
       "    }\n",
       "</style>\n",
       "<table border=\"1\" class=\"dataframe\">\n",
       "  <thead>\n",
       "    <tr style=\"text-align: right;\">\n",
       "      <th></th>\n",
       "      <th>AirBags</th>\n",
       "      <th>Cylinders</th>\n",
       "      <th>DriveTrain</th>\n",
       "      <th>Man.trans.avail</th>\n",
       "      <th>Manufacturer</th>\n",
       "      <th>Origin</th>\n",
       "      <th>Type</th>\n",
       "    </tr>\n",
       "  </thead>\n",
       "  <tbody>\n",
       "    <tr>\n",
       "      <th>0</th>\n",
       "      <td>0</td>\n",
       "      <td>0</td>\n",
       "      <td>1</td>\n",
       "      <td>0</td>\n",
       "      <td>0</td>\n",
       "      <td>0</td>\n",
       "      <td>0</td>\n",
       "    </tr>\n",
       "    <tr>\n",
       "      <th>1</th>\n",
       "      <td>0</td>\n",
       "      <td>0</td>\n",
       "      <td>0</td>\n",
       "      <td>1</td>\n",
       "      <td>0</td>\n",
       "      <td>0</td>\n",
       "      <td>0</td>\n",
       "    </tr>\n",
       "    <tr>\n",
       "      <th>2</th>\n",
       "      <td>0</td>\n",
       "      <td>0</td>\n",
       "      <td>0</td>\n",
       "      <td>0</td>\n",
       "      <td>0</td>\n",
       "      <td>1</td>\n",
       "      <td>0</td>\n",
       "    </tr>\n",
       "    <tr>\n",
       "      <th>3</th>\n",
       "      <td>1</td>\n",
       "      <td>0</td>\n",
       "      <td>0</td>\n",
       "      <td>0</td>\n",
       "      <td>0</td>\n",
       "      <td>0</td>\n",
       "      <td>0</td>\n",
       "    </tr>\n",
       "    <tr>\n",
       "      <th>4</th>\n",
       "      <td>0</td>\n",
       "      <td>0</td>\n",
       "      <td>0</td>\n",
       "      <td>0</td>\n",
       "      <td>1</td>\n",
       "      <td>0</td>\n",
       "      <td>0</td>\n",
       "    </tr>\n",
       "    <tr>\n",
       "      <th>5</th>\n",
       "      <td>0</td>\n",
       "      <td>1</td>\n",
       "      <td>0</td>\n",
       "      <td>0</td>\n",
       "      <td>0</td>\n",
       "      <td>0</td>\n",
       "      <td>0</td>\n",
       "    </tr>\n",
       "    <tr>\n",
       "      <th>6</th>\n",
       "      <td>0</td>\n",
       "      <td>0</td>\n",
       "      <td>0</td>\n",
       "      <td>0</td>\n",
       "      <td>0</td>\n",
       "      <td>0</td>\n",
       "      <td>1</td>\n",
       "    </tr>\n",
       "  </tbody>\n",
       "</table>\n",
       "</div>"
      ],
      "text/plain": [
       "   AirBags  Cylinders  DriveTrain  Man.trans.avail  Manufacturer  Origin  Type\n",
       "0        0          0           1                0             0       0     0\n",
       "1        0          0           0                1             0       0     0\n",
       "2        0          0           0                0             0       1     0\n",
       "3        1          0           0                0             0       0     0\n",
       "4        0          0           0                0             1       0     0\n",
       "5        0          1           0                0             0       0     0\n",
       "6        0          0           0                0             0       0     1"
      ]
     },
     "execution_count": 283,
     "metadata": {},
     "output_type": "execute_result"
    }
   ],
   "source": [
    "dummyVars"
   ]
  },
  {
   "cell_type": "code",
   "execution_count": 284,
   "metadata": {},
   "outputs": [],
   "source": [
    "df.drop(['Min.Price', 'Max.Price', 'MPG.city', 'MPG.highway','Rev.per.mile','DriveTrain', 'Man.trans.avail', 'Origin', 'AirBags', 'Manufacturer', 'Cylinders','Type', 'Wheelbase','Model', 'Unnamed: 0'],inplace =True,axis='columns')"
   ]
  },
  {
   "cell_type": "code",
   "execution_count": 285,
   "metadata": {},
   "outputs": [],
   "source": [
    "X = df.columns"
   ]
  },
  {
   "cell_type": "code",
   "execution_count": 286,
   "metadata": {},
   "outputs": [
    {
     "ename": "KeyError",
     "evalue": "\"['Unnamed: 0'] not found in axis\"",
     "output_type": "error",
     "traceback": [
      "\u001b[1;31m---------------------------------------------------------------------------\u001b[0m",
      "\u001b[1;31mKeyError\u001b[0m                                  Traceback (most recent call last)",
      "\u001b[1;32m~\\AppData\\Local\\Temp\\ipykernel_41412\\2168218438.py\u001b[0m in \u001b[0;36m<module>\u001b[1;34m\u001b[0m\n\u001b[1;32m----> 1\u001b[1;33m \u001b[0mdf\u001b[0m\u001b[1;33m.\u001b[0m\u001b[0mdrop\u001b[0m\u001b[1;33m(\u001b[0m\u001b[1;34m'Unnamed: 0'\u001b[0m\u001b[1;33m,\u001b[0m \u001b[0minplace\u001b[0m \u001b[1;33m=\u001b[0m\u001b[1;32mTrue\u001b[0m\u001b[1;33m,\u001b[0m\u001b[0maxis\u001b[0m\u001b[1;33m=\u001b[0m\u001b[1;34m'columns'\u001b[0m\u001b[1;33m)\u001b[0m\u001b[1;33m\u001b[0m\u001b[1;33m\u001b[0m\u001b[0m\n\u001b[0m\u001b[0;32m      2\u001b[0m \u001b[1;31m#drop column Unnamed: 0\u001b[0m\u001b[1;33m\u001b[0m\u001b[1;33m\u001b[0m\u001b[0m\n",
      "\u001b[1;32mc:\\Users\\alexa\\anaconda3\\lib\\site-packages\\pandas\\util\\_decorators.py\u001b[0m in \u001b[0;36mwrapper\u001b[1;34m(*args, **kwargs)\u001b[0m\n\u001b[0;32m    309\u001b[0m                     \u001b[0mstacklevel\u001b[0m\u001b[1;33m=\u001b[0m\u001b[0mstacklevel\u001b[0m\u001b[1;33m,\u001b[0m\u001b[1;33m\u001b[0m\u001b[1;33m\u001b[0m\u001b[0m\n\u001b[0;32m    310\u001b[0m                 )\n\u001b[1;32m--> 311\u001b[1;33m             \u001b[1;32mreturn\u001b[0m \u001b[0mfunc\u001b[0m\u001b[1;33m(\u001b[0m\u001b[1;33m*\u001b[0m\u001b[0margs\u001b[0m\u001b[1;33m,\u001b[0m \u001b[1;33m**\u001b[0m\u001b[0mkwargs\u001b[0m\u001b[1;33m)\u001b[0m\u001b[1;33m\u001b[0m\u001b[1;33m\u001b[0m\u001b[0m\n\u001b[0m\u001b[0;32m    312\u001b[0m \u001b[1;33m\u001b[0m\u001b[0m\n\u001b[0;32m    313\u001b[0m         \u001b[1;32mreturn\u001b[0m \u001b[0mwrapper\u001b[0m\u001b[1;33m\u001b[0m\u001b[1;33m\u001b[0m\u001b[0m\n",
      "\u001b[1;32mc:\\Users\\alexa\\anaconda3\\lib\\site-packages\\pandas\\core\\frame.py\u001b[0m in \u001b[0;36mdrop\u001b[1;34m(self, labels, axis, index, columns, level, inplace, errors)\u001b[0m\n\u001b[0;32m   4955\u001b[0m                 \u001b[0mweight\u001b[0m  \u001b[1;36m1.0\u001b[0m     \u001b[1;36m0.8\u001b[0m\u001b[1;33m\u001b[0m\u001b[1;33m\u001b[0m\u001b[0m\n\u001b[0;32m   4956\u001b[0m         \"\"\"\n\u001b[1;32m-> 4957\u001b[1;33m         return super().drop(\n\u001b[0m\u001b[0;32m   4958\u001b[0m             \u001b[0mlabels\u001b[0m\u001b[1;33m=\u001b[0m\u001b[0mlabels\u001b[0m\u001b[1;33m,\u001b[0m\u001b[1;33m\u001b[0m\u001b[1;33m\u001b[0m\u001b[0m\n\u001b[0;32m   4959\u001b[0m             \u001b[0maxis\u001b[0m\u001b[1;33m=\u001b[0m\u001b[0maxis\u001b[0m\u001b[1;33m,\u001b[0m\u001b[1;33m\u001b[0m\u001b[1;33m\u001b[0m\u001b[0m\n",
      "\u001b[1;32mc:\\Users\\alexa\\anaconda3\\lib\\site-packages\\pandas\\core\\generic.py\u001b[0m in \u001b[0;36mdrop\u001b[1;34m(self, labels, axis, index, columns, level, inplace, errors)\u001b[0m\n\u001b[0;32m   4265\u001b[0m         \u001b[1;32mfor\u001b[0m \u001b[0maxis\u001b[0m\u001b[1;33m,\u001b[0m \u001b[0mlabels\u001b[0m \u001b[1;32min\u001b[0m \u001b[0maxes\u001b[0m\u001b[1;33m.\u001b[0m\u001b[0mitems\u001b[0m\u001b[1;33m(\u001b[0m\u001b[1;33m)\u001b[0m\u001b[1;33m:\u001b[0m\u001b[1;33m\u001b[0m\u001b[1;33m\u001b[0m\u001b[0m\n\u001b[0;32m   4266\u001b[0m             \u001b[1;32mif\u001b[0m \u001b[0mlabels\u001b[0m \u001b[1;32mis\u001b[0m \u001b[1;32mnot\u001b[0m \u001b[1;32mNone\u001b[0m\u001b[1;33m:\u001b[0m\u001b[1;33m\u001b[0m\u001b[1;33m\u001b[0m\u001b[0m\n\u001b[1;32m-> 4267\u001b[1;33m                 \u001b[0mobj\u001b[0m \u001b[1;33m=\u001b[0m \u001b[0mobj\u001b[0m\u001b[1;33m.\u001b[0m\u001b[0m_drop_axis\u001b[0m\u001b[1;33m(\u001b[0m\u001b[0mlabels\u001b[0m\u001b[1;33m,\u001b[0m \u001b[0maxis\u001b[0m\u001b[1;33m,\u001b[0m \u001b[0mlevel\u001b[0m\u001b[1;33m=\u001b[0m\u001b[0mlevel\u001b[0m\u001b[1;33m,\u001b[0m \u001b[0merrors\u001b[0m\u001b[1;33m=\u001b[0m\u001b[0merrors\u001b[0m\u001b[1;33m)\u001b[0m\u001b[1;33m\u001b[0m\u001b[1;33m\u001b[0m\u001b[0m\n\u001b[0m\u001b[0;32m   4268\u001b[0m \u001b[1;33m\u001b[0m\u001b[0m\n\u001b[0;32m   4269\u001b[0m         \u001b[1;32mif\u001b[0m \u001b[0minplace\u001b[0m\u001b[1;33m:\u001b[0m\u001b[1;33m\u001b[0m\u001b[1;33m\u001b[0m\u001b[0m\n",
      "\u001b[1;32mc:\\Users\\alexa\\anaconda3\\lib\\site-packages\\pandas\\core\\generic.py\u001b[0m in \u001b[0;36m_drop_axis\u001b[1;34m(self, labels, axis, level, errors, consolidate, only_slice)\u001b[0m\n\u001b[0;32m   4309\u001b[0m                 \u001b[0mnew_axis\u001b[0m \u001b[1;33m=\u001b[0m \u001b[0maxis\u001b[0m\u001b[1;33m.\u001b[0m\u001b[0mdrop\u001b[0m\u001b[1;33m(\u001b[0m\u001b[0mlabels\u001b[0m\u001b[1;33m,\u001b[0m \u001b[0mlevel\u001b[0m\u001b[1;33m=\u001b[0m\u001b[0mlevel\u001b[0m\u001b[1;33m,\u001b[0m \u001b[0merrors\u001b[0m\u001b[1;33m=\u001b[0m\u001b[0merrors\u001b[0m\u001b[1;33m)\u001b[0m\u001b[1;33m\u001b[0m\u001b[1;33m\u001b[0m\u001b[0m\n\u001b[0;32m   4310\u001b[0m             \u001b[1;32melse\u001b[0m\u001b[1;33m:\u001b[0m\u001b[1;33m\u001b[0m\u001b[1;33m\u001b[0m\u001b[0m\n\u001b[1;32m-> 4311\u001b[1;33m                 \u001b[0mnew_axis\u001b[0m \u001b[1;33m=\u001b[0m \u001b[0maxis\u001b[0m\u001b[1;33m.\u001b[0m\u001b[0mdrop\u001b[0m\u001b[1;33m(\u001b[0m\u001b[0mlabels\u001b[0m\u001b[1;33m,\u001b[0m \u001b[0merrors\u001b[0m\u001b[1;33m=\u001b[0m\u001b[0merrors\u001b[0m\u001b[1;33m)\u001b[0m\u001b[1;33m\u001b[0m\u001b[1;33m\u001b[0m\u001b[0m\n\u001b[0m\u001b[0;32m   4312\u001b[0m             \u001b[0mindexer\u001b[0m \u001b[1;33m=\u001b[0m \u001b[0maxis\u001b[0m\u001b[1;33m.\u001b[0m\u001b[0mget_indexer\u001b[0m\u001b[1;33m(\u001b[0m\u001b[0mnew_axis\u001b[0m\u001b[1;33m)\u001b[0m\u001b[1;33m\u001b[0m\u001b[1;33m\u001b[0m\u001b[0m\n\u001b[0;32m   4313\u001b[0m \u001b[1;33m\u001b[0m\u001b[0m\n",
      "\u001b[1;32mc:\\Users\\alexa\\anaconda3\\lib\\site-packages\\pandas\\core\\indexes\\base.py\u001b[0m in \u001b[0;36mdrop\u001b[1;34m(self, labels, errors)\u001b[0m\n\u001b[0;32m   6659\u001b[0m         \u001b[1;32mif\u001b[0m \u001b[0mmask\u001b[0m\u001b[1;33m.\u001b[0m\u001b[0many\u001b[0m\u001b[1;33m(\u001b[0m\u001b[1;33m)\u001b[0m\u001b[1;33m:\u001b[0m\u001b[1;33m\u001b[0m\u001b[1;33m\u001b[0m\u001b[0m\n\u001b[0;32m   6660\u001b[0m             \u001b[1;32mif\u001b[0m \u001b[0merrors\u001b[0m \u001b[1;33m!=\u001b[0m \u001b[1;34m\"ignore\"\u001b[0m\u001b[1;33m:\u001b[0m\u001b[1;33m\u001b[0m\u001b[1;33m\u001b[0m\u001b[0m\n\u001b[1;32m-> 6661\u001b[1;33m                 \u001b[1;32mraise\u001b[0m \u001b[0mKeyError\u001b[0m\u001b[1;33m(\u001b[0m\u001b[1;34mf\"{list(labels[mask])} not found in axis\"\u001b[0m\u001b[1;33m)\u001b[0m\u001b[1;33m\u001b[0m\u001b[1;33m\u001b[0m\u001b[0m\n\u001b[0m\u001b[0;32m   6662\u001b[0m             \u001b[0mindexer\u001b[0m \u001b[1;33m=\u001b[0m \u001b[0mindexer\u001b[0m\u001b[1;33m[\u001b[0m\u001b[1;33m~\u001b[0m\u001b[0mmask\u001b[0m\u001b[1;33m]\u001b[0m\u001b[1;33m\u001b[0m\u001b[1;33m\u001b[0m\u001b[0m\n\u001b[0;32m   6663\u001b[0m         \u001b[1;32mreturn\u001b[0m \u001b[0mself\u001b[0m\u001b[1;33m.\u001b[0m\u001b[0mdelete\u001b[0m\u001b[1;33m(\u001b[0m\u001b[0mindexer\u001b[0m\u001b[1;33m)\u001b[0m\u001b[1;33m\u001b[0m\u001b[1;33m\u001b[0m\u001b[0m\n",
      "\u001b[1;31mKeyError\u001b[0m: \"['Unnamed: 0'] not found in axis\""
     ]
    }
   ],
   "source": [
    "df.drop('Unnamed: 0', inplace =True,axis='columns')\n",
    "#drop column Unnamed: 0"
   ]
  },
  {
   "cell_type": "code",
   "execution_count": null,
   "metadata": {},
   "outputs": [
    {
     "data": {
      "text/html": [
       "<div>\n",
       "<style scoped>\n",
       "    .dataframe tbody tr th:only-of-type {\n",
       "        vertical-align: middle;\n",
       "    }\n",
       "\n",
       "    .dataframe tbody tr th {\n",
       "        vertical-align: top;\n",
       "    }\n",
       "\n",
       "    .dataframe thead th {\n",
       "        text-align: right;\n",
       "    }\n",
       "</style>\n",
       "<table border=\"1\" class=\"dataframe\">\n",
       "  <thead>\n",
       "    <tr style=\"text-align: right;\">\n",
       "      <th></th>\n",
       "      <th>Price</th>\n",
       "      <th>EngineSize</th>\n",
       "      <th>Horsepower</th>\n",
       "      <th>RPM</th>\n",
       "      <th>Fuel.tank.capacity</th>\n",
       "      <th>Passengers</th>\n",
       "      <th>Length</th>\n",
       "      <th>Width</th>\n",
       "      <th>Turn.circle</th>\n",
       "      <th>Rear.seat.room</th>\n",
       "      <th>Luggage.room</th>\n",
       "      <th>Weight</th>\n",
       "      <th>Make</th>\n",
       "    </tr>\n",
       "  </thead>\n",
       "  <tbody>\n",
       "    <tr>\n",
       "      <th>0</th>\n",
       "      <td>15.9</td>\n",
       "      <td>1.8</td>\n",
       "      <td>140</td>\n",
       "      <td>6300</td>\n",
       "      <td>13.2</td>\n",
       "      <td>5</td>\n",
       "      <td>177</td>\n",
       "      <td>68</td>\n",
       "      <td>37</td>\n",
       "      <td>26.5</td>\n",
       "      <td>11.000000</td>\n",
       "      <td>2705</td>\n",
       "      <td>Acura Integra</td>\n",
       "    </tr>\n",
       "    <tr>\n",
       "      <th>1</th>\n",
       "      <td>33.9</td>\n",
       "      <td>3.2</td>\n",
       "      <td>200</td>\n",
       "      <td>5500</td>\n",
       "      <td>18.0</td>\n",
       "      <td>5</td>\n",
       "      <td>195</td>\n",
       "      <td>71</td>\n",
       "      <td>38</td>\n",
       "      <td>30.0</td>\n",
       "      <td>15.000000</td>\n",
       "      <td>3560</td>\n",
       "      <td>Acura Legend</td>\n",
       "    </tr>\n",
       "    <tr>\n",
       "      <th>2</th>\n",
       "      <td>29.1</td>\n",
       "      <td>2.8</td>\n",
       "      <td>172</td>\n",
       "      <td>5500</td>\n",
       "      <td>16.9</td>\n",
       "      <td>5</td>\n",
       "      <td>180</td>\n",
       "      <td>67</td>\n",
       "      <td>37</td>\n",
       "      <td>28.0</td>\n",
       "      <td>14.000000</td>\n",
       "      <td>3375</td>\n",
       "      <td>Audi 90</td>\n",
       "    </tr>\n",
       "    <tr>\n",
       "      <th>3</th>\n",
       "      <td>37.7</td>\n",
       "      <td>2.8</td>\n",
       "      <td>172</td>\n",
       "      <td>5500</td>\n",
       "      <td>21.1</td>\n",
       "      <td>6</td>\n",
       "      <td>193</td>\n",
       "      <td>70</td>\n",
       "      <td>37</td>\n",
       "      <td>31.0</td>\n",
       "      <td>17.000000</td>\n",
       "      <td>3405</td>\n",
       "      <td>Audi 100</td>\n",
       "    </tr>\n",
       "    <tr>\n",
       "      <th>4</th>\n",
       "      <td>30.0</td>\n",
       "      <td>3.5</td>\n",
       "      <td>208</td>\n",
       "      <td>5700</td>\n",
       "      <td>21.1</td>\n",
       "      <td>4</td>\n",
       "      <td>186</td>\n",
       "      <td>69</td>\n",
       "      <td>39</td>\n",
       "      <td>27.0</td>\n",
       "      <td>13.000000</td>\n",
       "      <td>3640</td>\n",
       "      <td>BMW 535i</td>\n",
       "    </tr>\n",
       "    <tr>\n",
       "      <th>...</th>\n",
       "      <td>...</td>\n",
       "      <td>...</td>\n",
       "      <td>...</td>\n",
       "      <td>...</td>\n",
       "      <td>...</td>\n",
       "      <td>...</td>\n",
       "      <td>...</td>\n",
       "      <td>...</td>\n",
       "      <td>...</td>\n",
       "      <td>...</td>\n",
       "      <td>...</td>\n",
       "      <td>...</td>\n",
       "      <td>...</td>\n",
       "    </tr>\n",
       "    <tr>\n",
       "      <th>88</th>\n",
       "      <td>19.7</td>\n",
       "      <td>2.5</td>\n",
       "      <td>109</td>\n",
       "      <td>4500</td>\n",
       "      <td>21.1</td>\n",
       "      <td>7</td>\n",
       "      <td>187</td>\n",
       "      <td>72</td>\n",
       "      <td>38</td>\n",
       "      <td>34.0</td>\n",
       "      <td>13.890244</td>\n",
       "      <td>3960</td>\n",
       "      <td>Volkswagen Eurovan</td>\n",
       "    </tr>\n",
       "    <tr>\n",
       "      <th>89</th>\n",
       "      <td>20.0</td>\n",
       "      <td>2.0</td>\n",
       "      <td>134</td>\n",
       "      <td>5800</td>\n",
       "      <td>18.5</td>\n",
       "      <td>5</td>\n",
       "      <td>180</td>\n",
       "      <td>67</td>\n",
       "      <td>35</td>\n",
       "      <td>31.5</td>\n",
       "      <td>14.000000</td>\n",
       "      <td>2985</td>\n",
       "      <td>Volkswagen Passat</td>\n",
       "    </tr>\n",
       "    <tr>\n",
       "      <th>90</th>\n",
       "      <td>23.3</td>\n",
       "      <td>2.8</td>\n",
       "      <td>178</td>\n",
       "      <td>5800</td>\n",
       "      <td>18.5</td>\n",
       "      <td>4</td>\n",
       "      <td>159</td>\n",
       "      <td>66</td>\n",
       "      <td>36</td>\n",
       "      <td>26.0</td>\n",
       "      <td>15.000000</td>\n",
       "      <td>2810</td>\n",
       "      <td>Volkswagen Corrado</td>\n",
       "    </tr>\n",
       "    <tr>\n",
       "      <th>91</th>\n",
       "      <td>22.7</td>\n",
       "      <td>2.3</td>\n",
       "      <td>114</td>\n",
       "      <td>5400</td>\n",
       "      <td>15.8</td>\n",
       "      <td>5</td>\n",
       "      <td>190</td>\n",
       "      <td>67</td>\n",
       "      <td>37</td>\n",
       "      <td>29.5</td>\n",
       "      <td>14.000000</td>\n",
       "      <td>2985</td>\n",
       "      <td>Volvo 240</td>\n",
       "    </tr>\n",
       "    <tr>\n",
       "      <th>92</th>\n",
       "      <td>26.7</td>\n",
       "      <td>2.4</td>\n",
       "      <td>168</td>\n",
       "      <td>6200</td>\n",
       "      <td>19.3</td>\n",
       "      <td>5</td>\n",
       "      <td>184</td>\n",
       "      <td>69</td>\n",
       "      <td>38</td>\n",
       "      <td>30.0</td>\n",
       "      <td>15.000000</td>\n",
       "      <td>3245</td>\n",
       "      <td>Volvo 850</td>\n",
       "    </tr>\n",
       "  </tbody>\n",
       "</table>\n",
       "<p>93 rows × 13 columns</p>\n",
       "</div>"
      ],
      "text/plain": [
       "    Price  EngineSize  Horsepower   RPM  Fuel.tank.capacity  Passengers  \\\n",
       "0    15.9         1.8         140  6300                13.2           5   \n",
       "1    33.9         3.2         200  5500                18.0           5   \n",
       "2    29.1         2.8         172  5500                16.9           5   \n",
       "3    37.7         2.8         172  5500                21.1           6   \n",
       "4    30.0         3.5         208  5700                21.1           4   \n",
       "..    ...         ...         ...   ...                 ...         ...   \n",
       "88   19.7         2.5         109  4500                21.1           7   \n",
       "89   20.0         2.0         134  5800                18.5           5   \n",
       "90   23.3         2.8         178  5800                18.5           4   \n",
       "91   22.7         2.3         114  5400                15.8           5   \n",
       "92   26.7         2.4         168  6200                19.3           5   \n",
       "\n",
       "    Length  Width  Turn.circle  Rear.seat.room  Luggage.room  Weight  \\\n",
       "0      177     68           37            26.5     11.000000    2705   \n",
       "1      195     71           38            30.0     15.000000    3560   \n",
       "2      180     67           37            28.0     14.000000    3375   \n",
       "3      193     70           37            31.0     17.000000    3405   \n",
       "4      186     69           39            27.0     13.000000    3640   \n",
       "..     ...    ...          ...             ...           ...     ...   \n",
       "88     187     72           38            34.0     13.890244    3960   \n",
       "89     180     67           35            31.5     14.000000    2985   \n",
       "90     159     66           36            26.0     15.000000    2810   \n",
       "91     190     67           37            29.5     14.000000    2985   \n",
       "92     184     69           38            30.0     15.000000    3245   \n",
       "\n",
       "                  Make  \n",
       "0        Acura Integra  \n",
       "1         Acura Legend  \n",
       "2              Audi 90  \n",
       "3             Audi 100  \n",
       "4             BMW 535i  \n",
       "..                 ...  \n",
       "88  Volkswagen Eurovan  \n",
       "89   Volkswagen Passat  \n",
       "90  Volkswagen Corrado  \n",
       "91           Volvo 240  \n",
       "92           Volvo 850  \n",
       "\n",
       "[93 rows x 13 columns]"
      ]
     },
     "execution_count": 257,
     "metadata": {},
     "output_type": "execute_result"
    }
   ],
   "source": [
    "df"
   ]
  },
  {
   "cell_type": "code",
   "execution_count": null,
   "metadata": {},
   "outputs": [
    {
     "data": {
      "text/plain": [
       "Index(['Price', 'EngineSize', 'Horsepower', 'RPM', 'Fuel.tank.capacity',\n",
       "       'Passengers', 'Length', 'Width', 'Turn.circle', 'Rear.seat.room',\n",
       "       'Luggage.room', 'Weight', 'Make'],\n",
       "      dtype='object')"
      ]
     },
     "execution_count": 258,
     "metadata": {},
     "output_type": "execute_result"
    }
   ],
   "source": [
    "df.columns"
   ]
  },
  {
   "cell_type": "code",
   "execution_count": null,
   "metadata": {},
   "outputs": [
    {
     "ename": "KeyError",
     "evalue": "\"['type_Compact', 'type_Large', 'type_Midsize', 'type_Small', 'type_Sporty', 'type_Van', 'DriveTrain_4WD', 'DriveTrain_Front', 'DriveTrain_Rear', 'Man.trans.avail_No', 'Man.trans.avail_Yes', 'Origin_USA', 'Origin_non-USA', 'AirBags_Driver & Passenger', 'AirBags_Driver only', 'AirBags_None', 'Manufacturer_Acura', 'Manufacturer_Audi', 'Manufacturer_BMW', 'Manufacturer_Buick', 'Manufacturer_Cadillac', 'Manufacturer_Chevrolet', 'Manufacturer_Chrylser', 'Manufacturer_Chrysler', 'Manufacturer_Dodge', 'Manufacturer_Eagle', 'Manufacturer_Ford', 'Manufacturer_Geo', 'Manufacturer_Honda', 'Manufacturer_Hyundai', 'Manufacturer_Infiniti', 'Manufacturer_Lexus', 'Manufacturer_Lincoln', 'Manufacturer_Mazda', 'Manufacturer_Mercedes-Benz', 'Manufacturer_Mercury', 'Manufacturer_Mitsubishi', 'Manufacturer_Nissan', 'Manufacturer_Oldsmobile', 'Manufacturer_Plymouth', 'Manufacturer_Pontiac', 'Manufacturer_Saab', 'Manufacturer_Saturn', 'Manufacturer_Subaru', 'Manufacturer_Suzuki', 'Manufacturer_Toyota', 'Manufacturer_Volkswagen', 'Manufacturer_Volvo', 'Cylinders_3', 'Cylinders_4', 'Cylinders_5', 'Cylinders_6', 'Cylinders_8', 'Cylinders_rotary'] not in index\"",
     "output_type": "error",
     "traceback": [
      "\u001b[1;31m---------------------------------------------------------------------------\u001b[0m",
      "\u001b[1;31mKeyError\u001b[0m                                  Traceback (most recent call last)",
      "\u001b[1;32m~\\AppData\\Local\\Temp\\ipykernel_41412\\3398636456.py\u001b[0m in \u001b[0;36m<module>\u001b[1;34m\u001b[0m\n\u001b[1;32m----> 1\u001b[1;33m X  = df[['Price', 'EngineSize', 'Horsepower', 'RPM', 'Fuel.tank.capacity',\n\u001b[0m\u001b[0;32m      2\u001b[0m        \u001b[1;34m'Passengers'\u001b[0m\u001b[1;33m,\u001b[0m \u001b[1;34m'Length'\u001b[0m\u001b[1;33m,\u001b[0m \u001b[1;34m'Width'\u001b[0m\u001b[1;33m,\u001b[0m \u001b[1;34m'Turn.circle'\u001b[0m\u001b[1;33m,\u001b[0m \u001b[1;34m'Rear.seat.room'\u001b[0m\u001b[1;33m,\u001b[0m\u001b[1;33m\u001b[0m\u001b[1;33m\u001b[0m\u001b[0m\n\u001b[0;32m      3\u001b[0m        \u001b[1;34m'Luggage.room'\u001b[0m\u001b[1;33m,\u001b[0m \u001b[1;34m'Weight'\u001b[0m\u001b[1;33m,\u001b[0m \u001b[1;34m'Make'\u001b[0m\u001b[1;33m,\u001b[0m \u001b[1;34m'type_Compact'\u001b[0m\u001b[1;33m,\u001b[0m \u001b[1;34m'type_Large'\u001b[0m\u001b[1;33m,\u001b[0m\u001b[1;33m\u001b[0m\u001b[1;33m\u001b[0m\u001b[0m\n\u001b[0;32m      4\u001b[0m        \u001b[1;34m'type_Midsize'\u001b[0m\u001b[1;33m,\u001b[0m \u001b[1;34m'type_Small'\u001b[0m\u001b[1;33m,\u001b[0m \u001b[1;34m'type_Sporty'\u001b[0m\u001b[1;33m,\u001b[0m \u001b[1;34m'type_Van'\u001b[0m\u001b[1;33m,\u001b[0m\u001b[1;33m\u001b[0m\u001b[1;33m\u001b[0m\u001b[0m\n\u001b[0;32m      5\u001b[0m        \u001b[1;34m'DriveTrain_4WD'\u001b[0m\u001b[1;33m,\u001b[0m \u001b[1;34m'DriveTrain_Front'\u001b[0m\u001b[1;33m,\u001b[0m \u001b[1;34m'DriveTrain_Rear'\u001b[0m\u001b[1;33m,\u001b[0m\u001b[1;33m\u001b[0m\u001b[1;33m\u001b[0m\u001b[0m\n",
      "\u001b[1;32mc:\\Users\\alexa\\anaconda3\\lib\\site-packages\\pandas\\core\\frame.py\u001b[0m in \u001b[0;36m__getitem__\u001b[1;34m(self, key)\u001b[0m\n\u001b[0;32m   3509\u001b[0m             \u001b[1;32mif\u001b[0m \u001b[0mis_iterator\u001b[0m\u001b[1;33m(\u001b[0m\u001b[0mkey\u001b[0m\u001b[1;33m)\u001b[0m\u001b[1;33m:\u001b[0m\u001b[1;33m\u001b[0m\u001b[1;33m\u001b[0m\u001b[0m\n\u001b[0;32m   3510\u001b[0m                 \u001b[0mkey\u001b[0m \u001b[1;33m=\u001b[0m \u001b[0mlist\u001b[0m\u001b[1;33m(\u001b[0m\u001b[0mkey\u001b[0m\u001b[1;33m)\u001b[0m\u001b[1;33m\u001b[0m\u001b[1;33m\u001b[0m\u001b[0m\n\u001b[1;32m-> 3511\u001b[1;33m             \u001b[0mindexer\u001b[0m \u001b[1;33m=\u001b[0m \u001b[0mself\u001b[0m\u001b[1;33m.\u001b[0m\u001b[0mcolumns\u001b[0m\u001b[1;33m.\u001b[0m\u001b[0m_get_indexer_strict\u001b[0m\u001b[1;33m(\u001b[0m\u001b[0mkey\u001b[0m\u001b[1;33m,\u001b[0m \u001b[1;34m\"columns\"\u001b[0m\u001b[1;33m)\u001b[0m\u001b[1;33m[\u001b[0m\u001b[1;36m1\u001b[0m\u001b[1;33m]\u001b[0m\u001b[1;33m\u001b[0m\u001b[1;33m\u001b[0m\u001b[0m\n\u001b[0m\u001b[0;32m   3512\u001b[0m \u001b[1;33m\u001b[0m\u001b[0m\n\u001b[0;32m   3513\u001b[0m         \u001b[1;31m# take() does not accept boolean indexers\u001b[0m\u001b[1;33m\u001b[0m\u001b[1;33m\u001b[0m\u001b[0m\n",
      "\u001b[1;32mc:\\Users\\alexa\\anaconda3\\lib\\site-packages\\pandas\\core\\indexes\\base.py\u001b[0m in \u001b[0;36m_get_indexer_strict\u001b[1;34m(self, key, axis_name)\u001b[0m\n\u001b[0;32m   5794\u001b[0m             \u001b[0mkeyarr\u001b[0m\u001b[1;33m,\u001b[0m \u001b[0mindexer\u001b[0m\u001b[1;33m,\u001b[0m \u001b[0mnew_indexer\u001b[0m \u001b[1;33m=\u001b[0m \u001b[0mself\u001b[0m\u001b[1;33m.\u001b[0m\u001b[0m_reindex_non_unique\u001b[0m\u001b[1;33m(\u001b[0m\u001b[0mkeyarr\u001b[0m\u001b[1;33m)\u001b[0m\u001b[1;33m\u001b[0m\u001b[1;33m\u001b[0m\u001b[0m\n\u001b[0;32m   5795\u001b[0m \u001b[1;33m\u001b[0m\u001b[0m\n\u001b[1;32m-> 5796\u001b[1;33m         \u001b[0mself\u001b[0m\u001b[1;33m.\u001b[0m\u001b[0m_raise_if_missing\u001b[0m\u001b[1;33m(\u001b[0m\u001b[0mkeyarr\u001b[0m\u001b[1;33m,\u001b[0m \u001b[0mindexer\u001b[0m\u001b[1;33m,\u001b[0m \u001b[0maxis_name\u001b[0m\u001b[1;33m)\u001b[0m\u001b[1;33m\u001b[0m\u001b[1;33m\u001b[0m\u001b[0m\n\u001b[0m\u001b[0;32m   5797\u001b[0m \u001b[1;33m\u001b[0m\u001b[0m\n\u001b[0;32m   5798\u001b[0m         \u001b[0mkeyarr\u001b[0m \u001b[1;33m=\u001b[0m \u001b[0mself\u001b[0m\u001b[1;33m.\u001b[0m\u001b[0mtake\u001b[0m\u001b[1;33m(\u001b[0m\u001b[0mindexer\u001b[0m\u001b[1;33m)\u001b[0m\u001b[1;33m\u001b[0m\u001b[1;33m\u001b[0m\u001b[0m\n",
      "\u001b[1;32mc:\\Users\\alexa\\anaconda3\\lib\\site-packages\\pandas\\core\\indexes\\base.py\u001b[0m in \u001b[0;36m_raise_if_missing\u001b[1;34m(self, key, indexer, axis_name)\u001b[0m\n\u001b[0;32m   5857\u001b[0m \u001b[1;33m\u001b[0m\u001b[0m\n\u001b[0;32m   5858\u001b[0m             \u001b[0mnot_found\u001b[0m \u001b[1;33m=\u001b[0m \u001b[0mlist\u001b[0m\u001b[1;33m(\u001b[0m\u001b[0mensure_index\u001b[0m\u001b[1;33m(\u001b[0m\u001b[0mkey\u001b[0m\u001b[1;33m)\u001b[0m\u001b[1;33m[\u001b[0m\u001b[0mmissing_mask\u001b[0m\u001b[1;33m.\u001b[0m\u001b[0mnonzero\u001b[0m\u001b[1;33m(\u001b[0m\u001b[1;33m)\u001b[0m\u001b[1;33m[\u001b[0m\u001b[1;36m0\u001b[0m\u001b[1;33m]\u001b[0m\u001b[1;33m]\u001b[0m\u001b[1;33m.\u001b[0m\u001b[0munique\u001b[0m\u001b[1;33m(\u001b[0m\u001b[1;33m)\u001b[0m\u001b[1;33m)\u001b[0m\u001b[1;33m\u001b[0m\u001b[1;33m\u001b[0m\u001b[0m\n\u001b[1;32m-> 5859\u001b[1;33m             \u001b[1;32mraise\u001b[0m \u001b[0mKeyError\u001b[0m\u001b[1;33m(\u001b[0m\u001b[1;34mf\"{not_found} not in index\"\u001b[0m\u001b[1;33m)\u001b[0m\u001b[1;33m\u001b[0m\u001b[1;33m\u001b[0m\u001b[0m\n\u001b[0m\u001b[0;32m   5860\u001b[0m \u001b[1;33m\u001b[0m\u001b[0m\n\u001b[0;32m   5861\u001b[0m     \u001b[1;33m@\u001b[0m\u001b[0moverload\u001b[0m\u001b[1;33m\u001b[0m\u001b[1;33m\u001b[0m\u001b[0m\n",
      "\u001b[1;31mKeyError\u001b[0m: \"['type_Compact', 'type_Large', 'type_Midsize', 'type_Small', 'type_Sporty', 'type_Van', 'DriveTrain_4WD', 'DriveTrain_Front', 'DriveTrain_Rear', 'Man.trans.avail_No', 'Man.trans.avail_Yes', 'Origin_USA', 'Origin_non-USA', 'AirBags_Driver & Passenger', 'AirBags_Driver only', 'AirBags_None', 'Manufacturer_Acura', 'Manufacturer_Audi', 'Manufacturer_BMW', 'Manufacturer_Buick', 'Manufacturer_Cadillac', 'Manufacturer_Chevrolet', 'Manufacturer_Chrylser', 'Manufacturer_Chrysler', 'Manufacturer_Dodge', 'Manufacturer_Eagle', 'Manufacturer_Ford', 'Manufacturer_Geo', 'Manufacturer_Honda', 'Manufacturer_Hyundai', 'Manufacturer_Infiniti', 'Manufacturer_Lexus', 'Manufacturer_Lincoln', 'Manufacturer_Mazda', 'Manufacturer_Mercedes-Benz', 'Manufacturer_Mercury', 'Manufacturer_Mitsubishi', 'Manufacturer_Nissan', 'Manufacturer_Oldsmobile', 'Manufacturer_Plymouth', 'Manufacturer_Pontiac', 'Manufacturer_Saab', 'Manufacturer_Saturn', 'Manufacturer_Subaru', 'Manufacturer_Suzuki', 'Manufacturer_Toyota', 'Manufacturer_Volkswagen', 'Manufacturer_Volvo', 'Cylinders_3', 'Cylinders_4', 'Cylinders_5', 'Cylinders_6', 'Cylinders_8', 'Cylinders_rotary'] not in index\""
     ]
    }
   ],
   "source": [
    "X  = df[['Price', 'EngineSize', 'Horsepower', 'RPM', 'Fuel.tank.capacity',\n",
    "       'Passengers', 'Length', 'Width', 'Turn.circle', 'Rear.seat.room',\n",
    "       'Luggage.room', 'Weight', 'Make', 'type_Compact', 'type_Large',\n",
    "       'type_Midsize', 'type_Small', 'type_Sporty', 'type_Van',\n",
    "       'DriveTrain_4WD', 'DriveTrain_Front', 'DriveTrain_Rear',\n",
    "       'Man.trans.avail_No', 'Man.trans.avail_Yes', 'Origin_USA',\n",
    "       'Origin_non-USA', 'AirBags_Driver & Passenger', 'AirBags_Driver only',\n",
    "       'AirBags_None', 'Manufacturer_Acura', 'Manufacturer_Audi',\n",
    "       'Manufacturer_BMW', 'Manufacturer_Buick', 'Manufacturer_Cadillac',\n",
    "       'Manufacturer_Chevrolet', 'Manufacturer_Chrylser',\n",
    "       'Manufacturer_Chrysler', 'Manufacturer_Dodge', 'Manufacturer_Eagle',\n",
    "       'Manufacturer_Ford', 'Manufacturer_Geo', 'Manufacturer_Honda',\n",
    "       'Manufacturer_Hyundai', 'Manufacturer_Infiniti', 'Manufacturer_Lexus',\n",
    "       'Manufacturer_Lincoln', 'Manufacturer_Mazda',\n",
    "       'Manufacturer_Mercedes-Benz', 'Manufacturer_Mercury',\n",
    "       'Manufacturer_Mitsubishi', 'Manufacturer_Nissan',\n",
    "       'Manufacturer_Oldsmobile', 'Manufacturer_Plymouth',\n",
    "       'Manufacturer_Pontiac', 'Manufacturer_Saab', 'Manufacturer_Saturn',\n",
    "       'Manufacturer_Subaru', 'Manufacturer_Suzuki', 'Manufacturer_Toyota',\n",
    "       'Manufacturer_Volkswagen', 'Manufacturer_Volvo', 'Cylinders_3',\n",
    "       'Cylinders_4', 'Cylinders_5', 'Cylinders_6', 'Cylinders_8',\n",
    "       'Cylinders_rotary']]\n"
   ]
  },
  {
   "cell_type": "code",
   "execution_count": null,
   "metadata": {},
   "outputs": [],
   "source": [
    "from sklearn import tree"
   ]
  },
  {
   "cell_type": "code",
   "execution_count": null,
   "metadata": {},
   "outputs": [],
   "source": [
    "dtree = tree.DecisionTreeClassifier()"
   ]
  },
  {
   "cell_type": "code",
   "execution_count": null,
   "metadata": {},
   "outputs": [],
   "source": [
    "dtree.fit(X,y)"
   ]
  },
  {
   "cell_type": "code",
   "execution_count": null,
   "metadata": {},
   "outputs": [],
   "source": [
    "dtree.score(X,y)"
   ]
  },
  {
   "cell_type": "code",
   "execution_count": null,
   "metadata": {},
   "outputs": [],
   "source": []
  }
 ],
 "metadata": {
  "kernelspec": {
   "display_name": "base",
   "language": "python",
   "name": "python3"
  },
  "language_info": {
   "codemirror_mode": {
    "name": "ipython",
    "version": 3
   },
   "file_extension": ".py",
   "mimetype": "text/x-python",
   "name": "python",
   "nbconvert_exporter": "python",
   "pygments_lexer": "ipython3",
   "version": "3.9.13"
  },
  "orig_nbformat": 4
 },
 "nbformat": 4,
 "nbformat_minor": 2
}
